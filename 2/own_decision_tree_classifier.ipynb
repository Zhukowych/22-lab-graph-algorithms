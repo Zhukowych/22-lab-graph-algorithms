{
 "cells": [
  {
   "cell_type": "markdown",
   "metadata": {},
   "source": [
    "# Decision Tree classifier\n"
   ]
  },
  {
   "cell_type": "code",
   "execution_count": 61,
   "metadata": {},
   "outputs": [],
   "source": [
    "import pandas as pd\n",
    "import numpy as np\n",
    "import matplotlib.pyplot as plt"
   ]
  },
  {
   "cell_type": "code",
   "execution_count": 62,
   "metadata": {},
   "outputs": [],
   "source": [
    "# scikit-learn package\n",
    "from sklearn.datasets import load_iris, load_breast_cancer, load_wine\n",
    "from sklearn.tree import DecisionTreeClassifier\n",
    "from sklearn import tree\n",
    "from sklearn.model_selection import train_test_split"
   ]
  },
  {
   "cell_type": "markdown",
   "metadata": {},
   "source": [
    "### Own DecisionTreeClassifier implementation"
   ]
  },
  {
   "cell_type": "code",
   "execution_count": 63,
   "metadata": {},
   "outputs": [],
   "source": [
    "class Node:\n",
    "    \n",
    "    def __init__(self, X, y, gini):\n",
    "        self.X = X\n",
    "        self.y = y\n",
    "        self.gini = gini\n",
    "        self.feature_index = 0\n",
    "        self.threshold = 0\n",
    "        self.left = None\n",
    "        self.right = None"
   ]
  },
  {
   "cell_type": "code",
   "execution_count": 64,
   "metadata": {},
   "outputs": [],
   "source": [
    "# Implement a decision tree classifier\n",
    "class MyDecisionTreeClassifier:\n",
    "    \n",
    "    def __init__(self, max_depth):\n",
    "        self.__classes = None\n",
    "        self.__features = None\n",
    "        self.__root_node = None \n",
    "        self.max_depth = max_depth\n",
    "\n",
    "    @staticmethod \n",
    "    def gini(groups, classes):\n",
    "        '''\n",
    "        A Gini score gives an idea of how good a split is by how mixed the\n",
    "        classes are in the two groups created by the split.\n",
    "        \n",
    "        A perfect separation results in a Gini score of 0,\n",
    "        whereas the worst case split that results in 50/50\n",
    "        classes in each group result in a Gini score of 0.5\n",
    "        (for a 2 class problem).\n",
    "        '''\n",
    "        total_size = sum(groups)\n",
    "        return 1 - sum(\n",
    "                    ( (groups[x] / total_size) ** 2 for x in classes )\n",
    "                )\n",
    "\n",
    "    \n",
    "    def split_data(self, X, y) -> tuple[int, int]:\n",
    "        \n",
    "        # test all the possible splits in O(N*F) where N in number of samples\n",
    "        # and F is number of features\n",
    "\n",
    "        # return index and threshold value\n",
    "        \n",
    "        output_size = y.size\n",
    "        if output_size <= 1:\n",
    "            return None, None\n",
    "\n",
    "        class_counts = [np.sum(y == c) for c in self.__classes]\n",
    "\n",
    "        best_gini = 1 - sum( (n / output_size) ** 2  for n in class_counts )\n",
    "        best_feature, best_threshold = None, None\n",
    "\n",
    "        for feature in self.__features: \n",
    "\n",
    "            thresholds, classes = zip(*sorted(zip(X[:, feature], y)))\n",
    "\n",
    "            left_classes = [0] * len(self.__classes)\n",
    "            right_classes = class_counts.copy()            \n",
    "\n",
    "            for i in range(output_size):\n",
    "                c = classes[i-1]\n",
    "\n",
    "                left_classes[c] += 1\n",
    "                right_classes[c] += 1\n",
    "\n",
    "                left_gini = self.gini(left_classes, self.__classes)\n",
    "                right_gini = self.gini(right_classes, self.__classes) \n",
    "\n",
    "                gini = (i * left_gini + (output_size - i) * right_gini) / output_size \n",
    "\n",
    "                if thresholds[i] == thresholds[i - 1]:\n",
    "                    continue\n",
    "                \n",
    "                if gini < best_gini:\n",
    "                    best_gini = gini\n",
    "                    best_feature = feature\n",
    "                    best_threshold = (thresholds[i] + thresholds[i-1]) / 2\n",
    "\n",
    "        return best_feature, best_threshold\n",
    "\n",
    "    def build_tree(self, X, y, depth = 0):\n",
    "        number_of_samples_per_class = [np.sum(y == c) for c in self.__classes]\n",
    "        predicted_class = np.argmax(number_of_samples_per_class)\n",
    "        node = Node(\n",
    "            gini=self.gini(number_of_samples_per_class, self.__classes),\n",
    "            X=number_of_samples_per_class,\n",
    "            y=predicted_class\n",
    "        )\n",
    "\n",
    "        if depth < self.max_depth:\n",
    "            feature, threshold = self.split_data(X, y)\n",
    "            if feature is not None:\n",
    "                samples_idx_left = X[:,feature] < threshold\n",
    "                X_left, y_left = X[samples_idx_left], y[samples_idx_left]\n",
    "                X_right, y_right = X[~samples_idx_left], y[~samples_idx_left]\n",
    "                node.feature_index = feature\n",
    "                node.threshold = threshold\n",
    "                node.left = self.build_tree(X_left, y_left, depth+1)\n",
    "                node.right = self.build_tree(X_right, y_right, depth+1)\n",
    "        \n",
    "        return node\n",
    "\n",
    "    def fit(self, X, y):\n",
    "        self.__classes = set(y)\n",
    "        self.__features = range(X.shape[1])\n",
    "        self.__root_node = self.build_tree(X, y)\n",
    "\n",
    "    \n",
    "    def predict(self, X_test):\n",
    "        node = self.__root_node\n",
    "        while node.left:\n",
    "            if X_test[node.feature_index] < node.threshold:\n",
    "                node = node.left\n",
    "            else:\n",
    "                node = node.right\n",
    "\n",
    "        return node.y    \n",
    "        \n",
    "    def evaluate(self, X_test, y_test):\n",
    "        correct_answers = sum( self.predict(x) == y_test[i] for i, x in enumerate(X_test) ) \n",
    "        return correct_answers / len(y_test)"
   ]
  },
  {
   "cell_type": "markdown",
   "metadata": {},
   "source": [
    "## Testing\n",
    "\n",
    "To test our implementation we will load **iris**, **breast_cancer** and **wine** datasets from sklearn and then compare performance of sklearn decision tree with ours."
   ]
  },
  {
   "cell_type": "code",
   "execution_count": 65,
   "metadata": {},
   "outputs": [],
   "source": [
    "# Loading dataset\n",
    "def load_dataset(load_function):\n",
    "    dataset = load_function()\n",
    "    X, y = dataset.data, dataset.target\n",
    "    return train_test_split(X, y, test_size= 0.20)\n",
    "\n",
    "def fit_sklearn_model(X, X_test, y, y_test):\n",
    "    sklearn_classifier = DecisionTreeClassifier()\n",
    "    sklearn_classifier = sklearn_classifier.fit(X, y)\n",
    "    predictions = sklearn_classifier.predict(X_test)\n",
    "    return sum(predictions == y_test) / len(y_test)\n",
    "\n",
    "def fit_own_implementation(X, X_test, y, y_test):\n",
    "    tree_classifier = MyDecisionTreeClassifier(6)\n",
    "    tree_classifier.fit(X, y)\n",
    "    return tree_classifier.evaluate(X_test, y_test)\n"
   ]
  },
  {
   "cell_type": "markdown",
   "metadata": {},
   "source": [
    "### Iris dataset"
   ]
  },
  {
   "cell_type": "code",
   "execution_count": 66,
   "metadata": {},
   "outputs": [
    {
     "name": "stdout",
     "output_type": "stream",
     "text": [
      "Sklearn: 0.9666666666666667 Own: 0.9666666666666667\n"
     ]
    }
   ],
   "source": [
    "dataset = load_dataset(load_iris)\n",
    "\n",
    "print(\"Sklearn:\", fit_sklearn_model(*dataset), \"Own:\", fit_own_implementation(*dataset))"
   ]
  },
  {
   "cell_type": "markdown",
   "metadata": {},
   "source": [
    "### Breast Cancer dataset"
   ]
  },
  {
   "cell_type": "code",
   "execution_count": 67,
   "metadata": {},
   "outputs": [
    {
     "name": "stdout",
     "output_type": "stream",
     "text": [
      "Sklearn: 0.9035087719298246 Own: 0.9035087719298246\n"
     ]
    }
   ],
   "source": [
    "dataset = load_dataset(load_breast_cancer)\n",
    "\n",
    "print(\"Sklearn:\", fit_sklearn_model(*dataset), \"Own:\", fit_own_implementation(*dataset))"
   ]
  },
  {
   "cell_type": "markdown",
   "metadata": {},
   "source": [
    "### Wine dataset"
   ]
  },
  {
   "cell_type": "code",
   "execution_count": 69,
   "metadata": {},
   "outputs": [
    {
     "name": "stdout",
     "output_type": "stream",
     "text": [
      "Sklearn: 0.9166666666666666 Own: 0.8888888888888888\n"
     ]
    }
   ],
   "source": [
    "dataset = load_dataset(load_wine)\n",
    "\n",
    "print(\"Sklearn:\", fit_sklearn_model(*dataset), \"Own:\", fit_own_implementation(*dataset))"
   ]
  },
  {
   "cell_type": "markdown",
   "metadata": {},
   "source": [
    "## Conclusions\n",
    "\n",
    "As we can see, our gives approximately the same performance as sklearn one."
   ]
  }
 ],
 "metadata": {
  "kernelspec": {
   "display_name": "Python 3",
   "language": "python",
   "name": "python3"
  },
  "language_info": {
   "codemirror_mode": {
    "name": "ipython",
    "version": 3
   },
   "file_extension": ".py",
   "mimetype": "text/x-python",
   "name": "python",
   "nbconvert_exporter": "python",
   "pygments_lexer": "ipython3",
   "version": "3.12.0"
  }
 },
 "nbformat": 4,
 "nbformat_minor": 2
}
